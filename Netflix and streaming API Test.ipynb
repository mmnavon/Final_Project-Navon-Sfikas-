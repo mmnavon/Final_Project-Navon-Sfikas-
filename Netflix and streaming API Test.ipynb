{
 "cells": [
  {
   "cell_type": "code",
   "execution_count": 30,
   "metadata": {},
   "outputs": [
    {
     "name": "stdout",
     "output_type": "stream",
     "text": [
      "enter a tv show nameThe Office\n",
      "{'status_code': 200, 'updated': '2019-05-01T03:04:31+0100', 'term': 'The Office', 'results': [{'picture': 'https://utellyassets2-9.imgix.net/2/Open/NBC/The%20Office/8th%20Season/Gallery/NUP_144357_3170.jpg?fit=crop&auto=compress&crop=faces,top', 'name': 'The Office', 'locations': [{'display_name': 'iTunes', 'name': 'ITunesUS', 'url': 'https://itunes.apple.com/us/tv-season/the-office-season-8/id457497439?uo=5&at=1l3v7yf', 'id': '58c141a37588d57a8e22dd54', 'icon': 'https://utellyassets7.imgix.net/locations_icons/utelly/black_new/ITunesUS.png?auto=compress&app_version=49e54b47-374e-4885-b8aa-dc142b9aa44d_2019-04-18&w=92'}, {'display_name': 'Amazon Prime', 'name': 'AmazonUS', 'url': 'http://www.amazon.com/gp/product/B001G0TQ1W?tag=utellycom00-21', 'id': '58c141a37588d57a9722dd54', 'icon': 'https://utellyassets7.imgix.net/locations_icons/utelly/black_new/AmazonUS.png?auto=compress&app_version=49e54b47-374e-4885-b8aa-dc142b9aa44d_2019-04-18&w=92'}], 'weight': 51, 'id': '570d69f7ebb7f950c140bc26'}, {'picture': 'https://utellyassets2-8.imgix.net/2/Open/NBC%20Sports/First/SC_First.jpg?fit=crop&auto=compress&crop=faces,top', 'name': 'First: The Official Film of the London 2012 Olympic Games', 'locations': [{'display_name': 'iTunes', 'name': 'ITunesUS', 'url': 'https://itunes.apple.com/us/movie/first-the-official-film-of-the-london-2012-olympic-games/id795536865?uo=5&at=1l3v7yf', 'id': '58c141a37588d57a8e22dd54', 'icon': 'https://utellyassets7.imgix.net/locations_icons/utelly/black_new/ITunesUS.png?auto=compress&app_version=49e54b47-374e-4885-b8aa-dc142b9aa44d_2019-04-18&w=92'}], 'weight': 0, 'id': '5763398debb7f956559c5b64'}], 'variant': 'utelly'}\n"
     ]
    }
   ],
   "source": [
    "import pandas as pd #Need to import pandas, json, and requests\n",
    "import requests\n",
    "import json\n",
    "\n",
    "user_Input=str(input(\"enter a tv show name\"))# This allows the user to add their own key term to the url. \n",
    "\n",
    "\n",
    "response = requests.get(\"https://utelly-tv-shows-and-movies-availability-v1.p.rapidapi.com/lookup?term=%s&country=us\" %(user_Input),#links the user input to the url\n",
    "  headers={\n",
    "    \"X-RapidAPI-Host\": \"utelly-tv-shows-and-movies-availability-v1.p.rapidapi.com\",\n",
    "    \"X-RapidAPI-Key\": \"27f0faf5fbmshdd6202fe3078c29p128ee2jsn21b6f86998d2\"\n",
    "  }#This api setup is different from what we are used to in the class. But it's pretty simple. The Url is requested first, then the host site, then the api key. \n",
    ")\n",
    "\n",
    "data = response.json()\n",
    "\n",
    "print(data)"
   ]
  },
  {
   "cell_type": "code",
   "execution_count": 44,
   "metadata": {},
   "outputs": [],
   "source": [
    "def utelly(user_Input):#This code is the exact same as the first code except that it is formatted as a function.\n",
    "    \n",
    "    import pandas as pd \n",
    "    import requests\n",
    "    import json\n",
    "\n",
    "    user_Input=str(input(\"enter a tv show name\")).title()#formats automatically to a title\n",
    "\n",
    "    response = requests.get(\"https://utelly-tv-shows-and-movies-availability-v1.p.rapidapi.com/lookup?term=%s&country=us\" %(user_Input),#links the \n",
    "      headers={\n",
    "        \"X-RapidAPI-Host\": \"utelly-tv-shows-and-movies-availability-v1.p.rapidapi.com\",\n",
    "        \"X-RapidAPI-Key\": \"27f0faf5fbmshdd6202fe3078c29p128ee2jsn21b6f86998d2\"\n",
    "      }\n",
    "    )\n",
    "\n",
    "    data = response.json()\n",
    "\n",
    "    return data"
   ]
  },
  {
   "cell_type": "code",
   "execution_count": 45,
   "metadata": {},
   "outputs": [
    {
     "name": "stdout",
     "output_type": "stream",
     "text": [
      "enter a tv show nameThe Office\n",
      "{'status_code': 200, 'updated': '2019-05-01T03:04:31+0100', 'term': 'The Office', 'results': [{'picture': 'https://utellyassets2-9.imgix.net/2/Open/NBC/The%20Office/8th%20Season/Gallery/NUP_144357_3170.jpg?fit=crop&auto=compress&crop=faces,top', 'name': 'The Office', 'locations': [{'display_name': 'iTunes', 'name': 'ITunesUS', 'url': 'https://itunes.apple.com/us/tv-season/the-office-season-8/id457497439?uo=5&at=1l3v7yf', 'id': '58c141a37588d57a8e22dd54', 'icon': 'https://utellyassets7.imgix.net/locations_icons/utelly/black_new/ITunesUS.png?auto=compress&app_version=49e54b47-374e-4885-b8aa-dc142b9aa44d_2019-04-18&w=92'}, {'display_name': 'Amazon Prime', 'name': 'AmazonUS', 'url': 'http://www.amazon.com/gp/product/B001G0TQ1W?tag=utellycom00-21', 'id': '58c141a37588d57a9722dd54', 'icon': 'https://utellyassets7.imgix.net/locations_icons/utelly/black_new/AmazonUS.png?auto=compress&app_version=49e54b47-374e-4885-b8aa-dc142b9aa44d_2019-04-18&w=92'}], 'weight': 51, 'id': '570d69f7ebb7f950c140bc26'}, {'picture': 'https://utellyassets2-8.imgix.net/2/Open/NBC%20Sports/First/SC_First.jpg?fit=crop&auto=compress&crop=faces,top', 'name': 'First: The Official Film of the London 2012 Olympic Games', 'locations': [{'display_name': 'iTunes', 'name': 'ITunesUS', 'url': 'https://itunes.apple.com/us/movie/first-the-official-film-of-the-london-2012-olympic-games/id795536865?uo=5&at=1l3v7yf', 'id': '58c141a37588d57a8e22dd54', 'icon': 'https://utellyassets7.imgix.net/locations_icons/utelly/black_new/ITunesUS.png?auto=compress&app_version=49e54b47-374e-4885-b8aa-dc142b9aa44d_2019-04-18&w=92'}], 'weight': 0, 'id': '5763398debb7f956559c5b64'}], 'variant': 'utelly'}\n"
     ]
    }
   ],
   "source": [
    "show= utelly(data)\n",
    "print(show)"
   ]
  },
  {
   "cell_type": "code",
   "execution_count": 35,
   "metadata": {},
   "outputs": [
    {
     "ename": "SyntaxError",
     "evalue": "invalid syntax (<ipython-input-35-fe05a4ccaa36>, line 2)",
     "output_type": "error",
     "traceback": [
      "\u001b[0;36m  File \u001b[0;32m\"<ipython-input-35-fe05a4ccaa36>\"\u001b[0;36m, line \u001b[0;32m2\u001b[0m\n\u001b[0;31m    tv_Watch[]\u001b[0m\n\u001b[0m             ^\u001b[0m\n\u001b[0;31mSyntaxError\u001b[0m\u001b[0;31m:\u001b[0m invalid syntax\n"
     ]
    }
   ],
   "source": [
    "for i in data['results'][1]['locations'][:]:\n",
    "    \n",
    "\n"
   ]
  },
  {
   "cell_type": "code",
   "execution_count": 14,
   "metadata": {},
   "outputs": [
    {
     "ename": "NameError",
     "evalue": "name 'url' is not defined",
     "output_type": "error",
     "traceback": [
      "\u001b[0;31m---------------------------------------------------------------------------\u001b[0m",
      "\u001b[0;31mNameError\u001b[0m                                 Traceback (most recent call last)",
      "\u001b[0;32m<ipython-input-14-019b3301fe5c>\u001b[0m in \u001b[0;36m<module>\u001b[0;34m\u001b[0m\n\u001b[1;32m      6\u001b[0m )\n\u001b[1;32m      7\u001b[0m \u001b[0;34m\u001b[0m\u001b[0m\n\u001b[0;32m----> 8\u001b[0;31m \u001b[0mresponse\u001b[0m \u001b[0;34m=\u001b[0m \u001b[0mrequests\u001b[0m\u001b[0;34m.\u001b[0m\u001b[0mget\u001b[0m\u001b[0;34m(\u001b[0m\u001b[0murl\u001b[0m\u001b[0;34m)\u001b[0m\u001b[0;34m\u001b[0m\u001b[0m\n\u001b[0m\u001b[1;32m      9\u001b[0m \u001b[0mdata\u001b[0m \u001b[0;34m=\u001b[0m \u001b[0mresponse\u001b[0m\u001b[0;34m.\u001b[0m\u001b[0mjson\u001b[0m\u001b[0;34m(\u001b[0m\u001b[0;34m)\u001b[0m\u001b[0;34m\u001b[0m\u001b[0m\n\u001b[1;32m     10\u001b[0m \u001b[0mprint\u001b[0m\u001b[0;34m(\u001b[0m\u001b[0mdata\u001b[0m\u001b[0;34m)\u001b[0m\u001b[0;34m\u001b[0m\u001b[0m\n",
      "\u001b[0;31mNameError\u001b[0m: name 'url' is not defined"
     ]
    }
   ],
   "source": []
  },
  {
   "cell_type": "code",
   "execution_count": null,
   "metadata": {},
   "outputs": [],
   "source": []
  },
  {
   "cell_type": "code",
   "execution_count": null,
   "metadata": {},
   "outputs": [],
   "source": []
  },
  {
   "cell_type": "code",
   "execution_count": 8,
   "metadata": {},
   "outputs": [
    {
     "name": "stdout",
     "output_type": "stream",
     "text": [
      "{'message': 'You are not subscribed to this API.'}\n"
     ]
    }
   ],
   "source": []
  },
  {
   "cell_type": "code",
   "execution_count": null,
   "metadata": {},
   "outputs": [],
   "source": []
  },
  {
   "cell_type": "code",
   "execution_count": null,
   "metadata": {},
   "outputs": [],
   "source": []
  },
  {
   "cell_type": "code",
   "execution_count": 9,
   "metadata": {},
   "outputs": [
    {
     "name": "stdout",
     "output_type": "stream",
     "text": [
      "{'message': 'You are not subscribed to this API.'}\n"
     ]
    }
   ],
   "source": []
  },
  {
   "cell_type": "code",
   "execution_count": null,
   "metadata": {},
   "outputs": [],
   "source": []
  }
 ],
 "metadata": {
  "kernelspec": {
   "display_name": "Python 3",
   "language": "python",
   "name": "python3"
  }
 },
 "nbformat": 4,
 "nbformat_minor": 2
}
