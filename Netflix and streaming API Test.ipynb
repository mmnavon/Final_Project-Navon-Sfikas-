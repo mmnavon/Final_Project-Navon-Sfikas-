{
 "cells": [
  {
   "cell_type": "code",
   "execution_count": null,
   "metadata": {},
   "outputs": [],
   "source": [
    "import pandas as pd #Need to import pandas, json, and requests\n",
    "import requests\n",
    "import json\n",
    "\n",
    "user_Input=str(input(\"enter a tv show name\"))# This allows the user to add their own key term to the url. \n",
    "\n",
    "\n",
    "response = requests.get(\"https://utelly-tv-shows-and-movies-availability-v1.p.rapidapi.com/lookup?term=%s&country=us\" %(user_Input),#links the user input to the url\n",
    "  headers={\n",
    "    \"X-RapidAPI-Host\": \"utelly-tv-shows-and-movies-availability-v1.p.rapidapi.com\",\n",
    "    \"X-RapidAPI-Key\": \"27f0faf5fbmshdd6202fe3078c29p128ee2jsn21b6f86998d2\"\n",
    "  }#This api setup is different from what we are used to in the class. But it's pretty simple. The Url is requested first, then the host site, then the api key. \n",
    ")\n",
    "\n",
    "data = response.json()\n",
    "\n",
    "print(data)"
   ]
  },
  {
   "cell_type": "code",
   "execution_count": 39,
   "metadata": {},
   "outputs": [
    {
     "name": "stdout",
     "output_type": "stream",
     "text": [
      "enter a tv show namegame of thrones\n",
      "iTunes\n",
      "Amazon Prime\n"
     ]
    }
   ],
   "source": [
    "import pandas as pd \n",
    "import requests\n",
    "import json\n",
    "user_Input=str(input(\"enter a tv show name\")).title()#formats automatically to a title\n",
    "\n",
    "def utelly():#This code is the exact same as the first code except that it is formatted as a function.\n",
    "\n",
    "\n",
    "    response = requests.get(\"https://utelly-tv-shows-and-movies-availability-v1.p.rapidapi.com/lookup?term=%s&country=us\" %(user_Input),#links the \n",
    "    headers={\n",
    "    \"X-RapidAPI-Host\": \"utelly-tv-shows-and-movies-availability-v1.p.rapidapi.com\",\n",
    "    \"X-RapidAPI-Key\": \"27f0faf5fbmshdd6202fe3078c29p128ee2jsn21b6f86998d2\"\n",
    "    }\n",
    "    )\n",
    "\n",
    "    data = response.json()\n",
    "\n",
    "    return data\n",
    "data = utelly()\n",
    "data\n",
    "locations = data['results'][0]['locations'][:]\n",
    "for i in locations:\n",
    "    print(i['display_name'])\n",
    "\n"
   ]
  },
  {
   "cell_type": "code",
   "execution_count": null,
   "metadata": {},
   "outputs": [],
   "source": [
    "\n",
    "show= utelly(data)\n",
    "print(show)"
   ]
  },
  {
   "cell_type": "code",
   "execution_count": null,
   "metadata": {},
   "outputs": [],
   "source": [
    "service = []\n",
    "for i in data['results'][1]['locations'][:]:\n",
    "    print(i['display_name'])\n",
    "\n"
   ]
  },
  {
   "cell_type": "code",
   "execution_count": null,
   "metadata": {},
   "outputs": [],
   "source": [
    "#len(['results'][1]['locations'])\n",
    "data['results'][1]['locations'][:].count('display_name')"
   ]
  },
  {
   "cell_type": "code",
   "execution_count": null,
   "metadata": {},
   "outputs": [],
   "source": [
    "data"
   ]
  },
  {
   "cell_type": "code",
   "execution_count": null,
   "metadata": {},
   "outputs": [],
   "source": [
    "for item in range(0, len(['results'][1]['locations'][:])):\n",
    "    service.append(i['display_name'])\n",
    "print(service)   "
   ]
  },
  {
   "cell_type": "code",
   "execution_count": null,
   "metadata": {},
   "outputs": [],
   "source": []
  },
  {
   "cell_type": "code",
   "execution_count": null,
   "metadata": {
    "scrolled": true
   },
   "outputs": [],
   "source": []
  },
  {
   "cell_type": "code",
   "execution_count": null,
   "metadata": {},
   "outputs": [],
   "source": [
    "colors = [\"red\", \"green\", \"blue\", \"purple\"]\n",
    "ratios = [0.2, 0.3, 0.1, 0.4]\n",
    "for i, color in enumerate(colors):\n",
    "    ratio = ratios[i]\n",
    "    print(\"{}% {}\".format(ratio * 100, color))"
   ]
  },
  {
   "cell_type": "code",
   "execution_count": null,
   "metadata": {},
   "outputs": [],
   "source": []
  },
  {
   "cell_type": "code",
   "execution_count": null,
   "metadata": {},
   "outputs": [],
   "source": []
  },
  {
   "cell_type": "code",
   "execution_count": null,
   "metadata": {},
   "outputs": [],
   "source": []
  }
 ],
 "metadata": {
  "kernelspec": {
   "display_name": "Python 3",
   "language": "python",
   "name": "python3"
  },
  "language_info": {
   "codemirror_mode": {
    "name": "ipython",
    "version": 3
   },
   "file_extension": ".py",
   "mimetype": "text/x-python",
   "name": "python",
   "nbconvert_exporter": "python",
   "pygments_lexer": "ipython3",
   "version": "3.6.6"
  }
 },
 "nbformat": 4,
 "nbformat_minor": 2
}
