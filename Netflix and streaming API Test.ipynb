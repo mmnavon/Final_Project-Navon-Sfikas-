{
 "cells": [
  {
   "cell_type": "code",
   "execution_count": 126,
   "metadata": {},
   "outputs": [
    {
     "name": "stdout",
     "output_type": "stream",
     "text": [
      "enter a tv show nameNCIS\n",
      "{'status_code': 200, 'updated': '2019-05-01T03:04:31+0100', 'term': 'NCIS', 'results': [{'picture': 'https://utellyassets2-9.imgix.net/2/Open/CBS_2/Program/3899298/3899298_NCIS_UpdatedS16_KA.jpg?fit=crop&auto=compress&crop=faces,top', 'name': 'NCIS', 'locations': [{'display_name': 'iTunes', 'name': 'ITunesUS', 'url': 'https://itunes.apple.com/us/tv-season/ncis-season-13/id1031580964?uo=5&at=1l3v7yf', 'id': '58c141a37588d57a8e22dd54', 'icon': 'https://utellyassets7.imgix.net/locations_icons/utelly/black_new/ITunesUS.png?auto=compress&app_version=49e54b47-374e-4885-b8aa-dc142b9aa44d_2019-04-18&w=92'}, {'display_name': 'Five US', 'name': 'Five US', 'url': None, 'id': '55c20fbdebb7f94c833a8f10', 'icon': 'https://utellyassets7.imgix.net/locations_icons/utelly/live_tv_square/55c20fbdebb7f94c833a8f10.jpg?auto=compress&app_version=49e54b47-374e-4885-b8aa-dc142b9aa44d_2019-04-18&w=92'}, {'display_name': 'Netflix', 'name': 'NetflixUS', 'url': 'https://www.netflix.com/title/70142386', 'id': '58c141a37588d57a9522dd54', 'icon': 'https://utellyassets7.imgix.net/locations_icons/utelly/black_new/NetflixUS.png?auto=compress&app_version=49e54b47-374e-4885-b8aa-dc142b9aa44d_2019-04-18&w=92'}, {'display_name': 'Amazon Prime', 'name': 'AmazonUS', 'url': 'http://www.amazon.com/gp/product/B0771VVMVY?tag=utellycom00-21', 'id': '58c141a37588d57a9722dd54', 'icon': 'https://utellyassets7.imgix.net/locations_icons/utelly/black_new/AmazonUS.png?auto=compress&app_version=49e54b47-374e-4885-b8aa-dc142b9aa44d_2019-04-18&w=92'}], 'weight': 0, 'id': '5763281ad9ad0e15d5366b95'}, {'picture': 'https://utellyassets2-8.imgix.net/2/Open/Warner_Home_Video_892/Program/18270172/18270172_Joyful%20Noise_KA.jpg?fit=crop&auto=compress&crop=faces,top', 'name': 'Joyful Noise', 'locations': [{'display_name': 'iTunes', 'name': 'ITunesUS', 'url': 'https://itunes.apple.com/us/movie/joyful-noise/id501255259?uo=5&at=1l3v7yf', 'id': '58c141a37588d57a8e22dd54', 'icon': 'https://utellyassets7.imgix.net/locations_icons/utelly/black_new/ITunesUS.png?auto=compress&app_version=49e54b47-374e-4885-b8aa-dc142b9aa44d_2019-04-18&w=92'}], 'weight': 135, 'id': '57633b7eebb7f956559d7957'}, {'picture': 'https://utellyassets2-8.imgix.net/2/Open/YouTube_3233/Program/4639323/rm_gaps_fill_527837_4639323_a89f2d9c-1e6d-4d6e-8af1-c2dcd9087774.png?fit=crop&auto=compress&crop=faces,top', 'name': 'White Noise', 'locations': [{'display_name': 'iTunes', 'name': 'ITunesUS', 'url': 'https://itunes.apple.com/us/movie/white-noise/id290562290?uo=5&at=1l3v7yf', 'id': '58c141a37588d57a8e22dd54', 'icon': 'https://utellyassets7.imgix.net/locations_icons/utelly/black_new/ITunesUS.png?auto=compress&app_version=49e54b47-374e-4885-b8aa-dc142b9aa44d_2019-04-18&w=92'}], 'weight': 66, 'id': '5b804e2f6088f2002f1b63a6'}, {'picture': 'https://utellyassets2-9.imgix.net/2/Open/Disney/Noises%20Off/Noises-Off-2to1.jpg?fit=crop&auto=compress&crop=faces,top', 'name': 'Noises Off', 'locations': [{'display_name': 'iTunes', 'name': 'ITunesUS', 'url': 'https://itunes.apple.com/us/movie/noises-off/id1012705918?uo=5&at=1l3v7yf', 'id': '58c141a37588d57a8e22dd54', 'icon': 'https://utellyassets7.imgix.net/locations_icons/utelly/black_new/ITunesUS.png?auto=compress&app_version=49e54b47-374e-4885-b8aa-dc142b9aa44d_2019-04-18&w=92'}], 'weight': 56, 'id': '5b803ad86088f2002f9c3c14'}], 'variant': 'utelly'}\n"
     ]
    }
   ],
   "source": [
    "import pandas as pd #Need to import pandas, json, and requests\n",
    "import requests\n",
    "import json\n",
    "\n",
    "user_Input=str(input(\"enter a tv show name\"))# This allows the user to add their own key term to the url. \n",
    "\n",
    "\n",
    "response = requests.get(\"https://utelly-tv-shows-and-movies-availability-v1.p.rapidapi.com/lookup?term=%s&country=us\" %(user_Input),#links the user input to the url\n",
    "  headers={\n",
    "    \"X-RapidAPI-Host\": \"utelly-tv-shows-and-movies-availability-v1.p.rapidapi.com\",\n",
    "    \"X-RapidAPI-Key\": \"27f0faf5fbmshdd6202fe3078c29p128ee2jsn21b6f86998d2\"\n",
    "  }#This api setup is different from what we are used to in the class. But it's pretty simple. The Url is requested first, then the host site, then the api key. \n",
    ")\n",
    "\n",
    "data = response.json()\n",
    "\n",
    "print(data)"
   ]
  },
  {
   "cell_type": "code",
   "execution_count": 127,
   "metadata": {},
   "outputs": [
    {
     "name": "stdout",
     "output_type": "stream",
     "text": [
      "enter a tv show nameNCIS\n"
     ]
    },
    {
     "data": {
      "text/plain": [
       "{'status_code': 200,\n",
       " 'updated': '2019-05-01T03:04:31+0100',\n",
       " 'term': 'Ncis',\n",
       " 'results': [{'picture': 'https://utellyassets2-9.imgix.net/2/Open/CBS_2/Program/3899298/3899298_NCIS_UpdatedS16_KA.jpg?fit=crop&auto=compress&crop=faces,top',\n",
       "   'name': 'NCIS',\n",
       "   'locations': [{'display_name': 'iTunes',\n",
       "     'name': 'ITunesUS',\n",
       "     'url': 'https://itunes.apple.com/us/tv-season/ncis-season-13/id1031580964?uo=5&at=1l3v7yf',\n",
       "     'id': '58c141a37588d57a8e22dd54',\n",
       "     'icon': 'https://utellyassets7.imgix.net/locations_icons/utelly/black_new/ITunesUS.png?auto=compress&app_version=49e54b47-374e-4885-b8aa-dc142b9aa44d_2019-04-18&w=92'},\n",
       "    {'display_name': 'Five US',\n",
       "     'name': 'Five US',\n",
       "     'url': None,\n",
       "     'id': '55c20fbdebb7f94c833a8f10',\n",
       "     'icon': 'https://utellyassets7.imgix.net/locations_icons/utelly/live_tv_square/55c20fbdebb7f94c833a8f10.jpg?auto=compress&app_version=49e54b47-374e-4885-b8aa-dc142b9aa44d_2019-04-18&w=92'},\n",
       "    {'display_name': 'Netflix',\n",
       "     'name': 'NetflixUS',\n",
       "     'url': 'https://www.netflix.com/title/70142386',\n",
       "     'id': '58c141a37588d57a9522dd54',\n",
       "     'icon': 'https://utellyassets7.imgix.net/locations_icons/utelly/black_new/NetflixUS.png?auto=compress&app_version=49e54b47-374e-4885-b8aa-dc142b9aa44d_2019-04-18&w=92'},\n",
       "    {'display_name': 'Amazon Prime',\n",
       "     'name': 'AmazonUS',\n",
       "     'url': 'http://www.amazon.com/gp/product/B0771VVMVY?tag=utellycom00-21',\n",
       "     'id': '58c141a37588d57a9722dd54',\n",
       "     'icon': 'https://utellyassets7.imgix.net/locations_icons/utelly/black_new/AmazonUS.png?auto=compress&app_version=49e54b47-374e-4885-b8aa-dc142b9aa44d_2019-04-18&w=92'}],\n",
       "   'weight': 0,\n",
       "   'id': '5763281ad9ad0e15d5366b95'},\n",
       "  {'picture': 'https://utellyassets2-8.imgix.net/2/Open/Warner_Home_Video_892/Program/18270172/18270172_Joyful%20Noise_KA.jpg?fit=crop&auto=compress&crop=faces,top',\n",
       "   'name': 'Joyful Noise',\n",
       "   'locations': [{'display_name': 'iTunes',\n",
       "     'name': 'ITunesUS',\n",
       "     'url': 'https://itunes.apple.com/us/movie/joyful-noise/id501255259?uo=5&at=1l3v7yf',\n",
       "     'id': '58c141a37588d57a8e22dd54',\n",
       "     'icon': 'https://utellyassets7.imgix.net/locations_icons/utelly/black_new/ITunesUS.png?auto=compress&app_version=49e54b47-374e-4885-b8aa-dc142b9aa44d_2019-04-18&w=92'}],\n",
       "   'weight': 135,\n",
       "   'id': '57633b7eebb7f956559d7957'},\n",
       "  {'picture': 'https://utellyassets2-8.imgix.net/2/Open/YouTube_3233/Program/4639323/rm_gaps_fill_527837_4639323_a89f2d9c-1e6d-4d6e-8af1-c2dcd9087774.png?fit=crop&auto=compress&crop=faces,top',\n",
       "   'name': 'White Noise',\n",
       "   'locations': [{'display_name': 'iTunes',\n",
       "     'name': 'ITunesUS',\n",
       "     'url': 'https://itunes.apple.com/us/movie/white-noise/id290562290?uo=5&at=1l3v7yf',\n",
       "     'id': '58c141a37588d57a8e22dd54',\n",
       "     'icon': 'https://utellyassets7.imgix.net/locations_icons/utelly/black_new/ITunesUS.png?auto=compress&app_version=49e54b47-374e-4885-b8aa-dc142b9aa44d_2019-04-18&w=92'}],\n",
       "   'weight': 66,\n",
       "   'id': '5b804e2f6088f2002f1b63a6'},\n",
       "  {'picture': 'https://utellyassets2-9.imgix.net/2/Open/Disney/Noises%20Off/Noises-Off-2to1.jpg?fit=crop&auto=compress&crop=faces,top',\n",
       "   'name': 'Noises Off',\n",
       "   'locations': [{'display_name': 'iTunes',\n",
       "     'name': 'ITunesUS',\n",
       "     'url': 'https://itunes.apple.com/us/movie/noises-off/id1012705918?uo=5&at=1l3v7yf',\n",
       "     'id': '58c141a37588d57a8e22dd54',\n",
       "     'icon': 'https://utellyassets7.imgix.net/locations_icons/utelly/black_new/ITunesUS.png?auto=compress&app_version=49e54b47-374e-4885-b8aa-dc142b9aa44d_2019-04-18&w=92'}],\n",
       "   'weight': 56,\n",
       "   'id': '5b803ad86088f2002f9c3c14'}],\n",
       " 'variant': 'utelly'}"
      ]
     },
     "execution_count": 127,
     "metadata": {},
     "output_type": "execute_result"
    }
   ],
   "source": [
    "import pandas as pd \n",
    "import requests\n",
    "import json\n",
    "user_Input=str(input(\"enter a tv show name\")).title()#formats automatically to a title\n",
    "\n",
    "def utelly():#This code is the exact same as the first code except that it is formatted as a function.\n",
    "\n",
    "\n",
    "    response = requests.get(\"https://utelly-tv-shows-and-movies-availability-v1.p.rapidapi.com/lookup?term=%s&country=us\" %(user_Input),#links the \n",
    "    headers={\n",
    "    \"X-RapidAPI-Host\": \"utelly-tv-shows-and-movies-availability-v1.p.rapidapi.com\",\n",
    "    \"X-RapidAPI-Key\": \"27f0faf5fbmshdd6202fe3078c29p128ee2jsn21b6f86998d2\"\n",
    "    }\n",
    "    )\n",
    "\n",
    "    data = response.json()\n",
    "\n",
    "    return data\n",
    "data = utelly()\n",
    "data\n"
   ]
  },
  {
   "cell_type": "code",
   "execution_count": 121,
   "metadata": {},
   "outputs": [
    {
     "ename": "TypeError",
     "evalue": "utelly() takes 0 positional arguments but 1 was given",
     "output_type": "error",
     "traceback": [
      "\u001b[0;31m---------------------------------------------------------------------------\u001b[0m",
      "\u001b[0;31mTypeError\u001b[0m                                 Traceback (most recent call last)",
      "\u001b[0;32m<ipython-input-121-30578d2bdaa2>\u001b[0m in \u001b[0;36m<module>\u001b[0;34m\u001b[0m\n\u001b[1;32m      1\u001b[0m \u001b[0;34m\u001b[0m\u001b[0m\n\u001b[0;32m----> 2\u001b[0;31m \u001b[0mshow\u001b[0m\u001b[0;34m=\u001b[0m \u001b[0mutelly\u001b[0m\u001b[0;34m(\u001b[0m\u001b[0mdata\u001b[0m\u001b[0;34m)\u001b[0m\u001b[0;34m\u001b[0m\u001b[0m\n\u001b[0m\u001b[1;32m      3\u001b[0m \u001b[0mprint\u001b[0m\u001b[0;34m(\u001b[0m\u001b[0mshow\u001b[0m\u001b[0;34m)\u001b[0m\u001b[0;34m\u001b[0m\u001b[0m\n",
      "\u001b[0;31mTypeError\u001b[0m: utelly() takes 0 positional arguments but 1 was given"
     ]
    }
   ],
   "source": [
    "\n",
    "show= utelly(data)\n",
    "print(show)"
   ]
  },
  {
   "cell_type": "code",
   "execution_count": 125,
   "metadata": {},
   "outputs": [
    {
     "name": "stdout",
     "output_type": "stream",
     "text": [
      "['iTunes']\n"
     ]
    }
   ],
   "source": [
    "service = []\n",
    "for i in data['results'][1]['locations'][:]:\n",
    "    service.append(i['display_name'])\n",
    "    \n",
    "print(service)\n"
   ]
  },
  {
   "cell_type": "code",
   "execution_count": 123,
   "metadata": {},
   "outputs": [
    {
     "data": {
      "text/plain": [
       "0"
      ]
     },
     "execution_count": 123,
     "metadata": {},
     "output_type": "execute_result"
    }
   ],
   "source": [
    "#len(['results'][1]['locations'])\n",
    "data['results'][1]['locations'][:].count('display_name')"
   ]
  },
  {
   "cell_type": "code",
   "execution_count": 57,
   "metadata": {},
   "outputs": [
    {
     "data": {
      "text/plain": [
       "{'status_code': 200,\n",
       " 'updated': '2019-05-01T03:04:31+0100',\n",
       " 'term': 'The Office',\n",
       " 'results': [{'picture': 'https://utellyassets2-9.imgix.net/2/Open/NBC/The%20Office/8th%20Season/Gallery/NUP_144357_3170.jpg?fit=crop&auto=compress&crop=faces,top',\n",
       "   'name': 'The Office',\n",
       "   'locations': [{'display_name': 'iTunes',\n",
       "     'name': 'ITunesUS',\n",
       "     'url': 'https://itunes.apple.com/us/tv-season/the-office-season-8/id457497439?uo=5&at=1l3v7yf',\n",
       "     'id': '58c141a37588d57a8e22dd54',\n",
       "     'icon': 'https://utellyassets7.imgix.net/locations_icons/utelly/black_new/ITunesUS.png?auto=compress&app_version=49e54b47-374e-4885-b8aa-dc142b9aa44d_2019-04-18&w=92'},\n",
       "    {'display_name': 'Amazon Prime',\n",
       "     'name': 'AmazonUS',\n",
       "     'url': 'http://www.amazon.com/gp/product/B001G0TQ1W?tag=utellycom00-21',\n",
       "     'id': '58c141a37588d57a9722dd54',\n",
       "     'icon': 'https://utellyassets7.imgix.net/locations_icons/utelly/black_new/AmazonUS.png?auto=compress&app_version=49e54b47-374e-4885-b8aa-dc142b9aa44d_2019-04-18&w=92'}],\n",
       "   'weight': 51,\n",
       "   'id': '570d69f7ebb7f950c140bc26'},\n",
       "  {'picture': 'https://utellyassets2-8.imgix.net/2/Open/NBC%20Sports/First/SC_First.jpg?fit=crop&auto=compress&crop=faces,top',\n",
       "   'name': 'First: The Official Film of the London 2012 Olympic Games',\n",
       "   'locations': [{'display_name': 'iTunes',\n",
       "     'name': 'ITunesUS',\n",
       "     'url': 'https://itunes.apple.com/us/movie/first-the-official-film-of-the-london-2012-olympic-games/id795536865?uo=5&at=1l3v7yf',\n",
       "     'id': '58c141a37588d57a8e22dd54',\n",
       "     'icon': 'https://utellyassets7.imgix.net/locations_icons/utelly/black_new/ITunesUS.png?auto=compress&app_version=49e54b47-374e-4885-b8aa-dc142b9aa44d_2019-04-18&w=92'}],\n",
       "   'weight': 0,\n",
       "   'id': '5763398debb7f956559c5b64'}],\n",
       " 'variant': 'utelly'}"
      ]
     },
     "execution_count": 57,
     "metadata": {},
     "output_type": "execute_result"
    }
   ],
   "source": [
    "data"
   ]
  },
  {
   "cell_type": "code",
   "execution_count": 79,
   "metadata": {},
   "outputs": [
    {
     "ename": "IndexError",
     "evalue": "list index out of range",
     "output_type": "error",
     "traceback": [
      "\u001b[0;31m---------------------------------------------------------------------------\u001b[0m",
      "\u001b[0;31mIndexError\u001b[0m                                Traceback (most recent call last)",
      "\u001b[0;32m<ipython-input-79-f7fc7905af8d>\u001b[0m in \u001b[0;36m<module>\u001b[0;34m\u001b[0m\n\u001b[0;32m----> 1\u001b[0;31m \u001b[0;32mfor\u001b[0m \u001b[0mi\u001b[0m \u001b[0;32min\u001b[0m \u001b[0mrange\u001b[0m\u001b[0;34m(\u001b[0m\u001b[0;36m0\u001b[0m\u001b[0;34m,\u001b[0m \u001b[0mlen\u001b[0m\u001b[0;34m(\u001b[0m\u001b[0;34m[\u001b[0m\u001b[0;34m'results'\u001b[0m\u001b[0;34m]\u001b[0m\u001b[0;34m[\u001b[0m\u001b[0;36m1\u001b[0m\u001b[0;34m]\u001b[0m\u001b[0;34m[\u001b[0m\u001b[0;34m'locations'\u001b[0m\u001b[0;34m]\u001b[0m\u001b[0;34m[\u001b[0m\u001b[0;34m:\u001b[0m\u001b[0;34m]\u001b[0m\u001b[0;34m)\u001b[0m\u001b[0;34m)\u001b[0m\u001b[0;34m:\u001b[0m\u001b[0;34m\u001b[0m\u001b[0m\n\u001b[0m\u001b[1;32m      2\u001b[0m     \u001b[0mservice\u001b[0m\u001b[0;34m.\u001b[0m\u001b[0mappend\u001b[0m\u001b[0;34m(\u001b[0m\u001b[0mi\u001b[0m\u001b[0;34m[\u001b[0m\u001b[0;34m'display_name'\u001b[0m\u001b[0;34m]\u001b[0m\u001b[0;34m)\u001b[0m\u001b[0;34m\u001b[0m\u001b[0m\n\u001b[1;32m      3\u001b[0m \u001b[0mprint\u001b[0m\u001b[0;34m(\u001b[0m\u001b[0mservice\u001b[0m\u001b[0;34m)\u001b[0m\u001b[0;34m\u001b[0m\u001b[0m\n",
      "\u001b[0;31mIndexError\u001b[0m: list index out of range"
     ]
    }
   ],
   "source": [
    "for item in range(0, len(['results'][1]['locations'][:])):\n",
    "    service.append(i['display_name'])\n",
    "print(service)   "
   ]
  },
  {
   "cell_type": "code",
   "execution_count": null,
   "metadata": {},
   "outputs": [],
   "source": []
  },
  {
   "cell_type": "code",
   "execution_count": 8,
   "metadata": {
    "scrolled": true
   },
   "outputs": [
    {
     "name": "stdout",
     "output_type": "stream",
     "text": [
      "{'message': 'You are not subscribed to this API.'}\n"
     ]
    }
   ],
   "source": []
  },
  {
   "cell_type": "code",
   "execution_count": 67,
   "metadata": {},
   "outputs": [
    {
     "name": "stdout",
     "output_type": "stream",
     "text": [
      "20.0% red\n",
      "30.0% green\n",
      "10.0% blue\n",
      "40.0% purple\n"
     ]
    }
   ],
   "source": [
    "colors = [\"red\", \"green\", \"blue\", \"purple\"]\n",
    "ratios = [0.2, 0.3, 0.1, 0.4]\n",
    "for i, color in enumerate(colors):\n",
    "    ratio = ratios[i]\n",
    "    print(\"{}% {}\".format(ratio * 100, color))"
   ]
  },
  {
   "cell_type": "code",
   "execution_count": null,
   "metadata": {},
   "outputs": [],
   "source": []
  },
  {
   "cell_type": "code",
   "execution_count": 9,
   "metadata": {},
   "outputs": [
    {
     "name": "stdout",
     "output_type": "stream",
     "text": [
      "{'message': 'You are not subscribed to this API.'}\n"
     ]
    }
   ],
   "source": []
  },
  {
   "cell_type": "code",
   "execution_count": null,
   "metadata": {},
   "outputs": [],
   "source": []
  }
 ],
 "metadata": {
  "kernelspec": {
   "display_name": "Python 3",
   "language": "python",
   "name": "python3"
  }
 },
 "nbformat": 4,
 "nbformat_minor": 2
}
