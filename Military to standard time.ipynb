{
 "cells": [
  {
   "cell_type": "code",
   "execution_count": null,
   "metadata": {},
   "outputs": [],
   "source": [
    "def timeConvert():\n",
    "    miliTime = input(\"Enter a time in hh:mm (military) format: \")\n",
    "    hours, minutes = miliTime.split(\":\")\n",
    "    hours, minutes = int(hours), int(minutes)\n",
    "    setting = \"AM\"\n",
    "    if hours > 12:\n",
    "        setting = \"PM\"\n",
    "        hours -= 12\n",
    "    print((\"%02d:%02d\" + setting) % (hours, minutes))\n",
    "#this is 100 percent not our code we found it on stack overflow. The reason we need it is because the time in the cable api is in military."
   ]
  }
 ],
 "metadata": {
  "kernelspec": {
   "display_name": "Python 3",
   "language": "python",
   "name": "python3"
  },
  "language_info": {
   "codemirror_mode": {
    "name": "ipython",
    "version": 3
   },
   "file_extension": ".py",
   "mimetype": "text/x-python",
   "name": "python",
   "nbconvert_exporter": "python",
   "pygments_lexer": "ipython3",
   "version": "3.6.6"
  }
 },
 "nbformat": 4,
 "nbformat_minor": 2
}
