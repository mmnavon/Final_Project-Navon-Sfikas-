{
 "cells": [
  {
   "cell_type": "code",
   "execution_count": null,
   "metadata": {},
   "outputs": [],
   "source": [
    "miliTime.split(\":\")\n",
    "    if len(miliTime) == 3:\n",
    "        hours = miliTime[0]\n",
    "        minutes = miliTime[2]\n",
    "        if hours < 0:\n",
    "            print(\"Hours can't be less than 0.\")\n",
    "    elif len(miliTime) == 4:\n",
    "        if miliTime[0:2] >= 10:\n",
    "            hours = militime[0:2]\n",
    "            minutes = militime[3]\n",
    "            if minutes < 0:\n",
    "                print(\"Minutes can't be less than 0.\")\n",
    "            if minutes < 10:\n",
    "                minutes = 0 + minutes\n",
    "        else:\n",
    "            hours = miliTime[0]\n",
    "            minutes = militime[2:]\n",
    "            if minutes >= 60:\n",
    "                print(\"Too big of a number for minutes.\")\n",
    "    else:\n",
    "        hours = miliTime[0:2]\n",
    "        minutes = miliTime[3:]\n",
    "    setting = AM\n",
    "    if hours > 12:\n",
    "        setting = PM\n",
    "        hours -= 12\n",
    "    print(hours + \":\" + minutes + setting)\n",
    "\n",
    "timeConvert()\n",
    "#this is 100 percent not our code we found it on stack overflow. The reason we need it is because the time in the cable api is in military."
   ]
  }
 ],
 "metadata": {
  "kernelspec": {
   "display_name": "Python 3",
   "language": "python",
   "name": "python3"
  },
  "language_info": {
   "codemirror_mode": {
    "name": "ipython",
    "version": 3
   },
   "file_extension": ".py",
   "mimetype": "text/x-python",
   "name": "python",
   "nbconvert_exporter": "python",
   "pygments_lexer": "ipython3",
   "version": "3.6.6"
  }
 },
 "nbformat": 4,
 "nbformat_minor": 2
}
