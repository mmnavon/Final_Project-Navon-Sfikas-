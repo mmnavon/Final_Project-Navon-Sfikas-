{
 "cells": [
  {
   "cell_type": "code",
   "execution_count": 30,
   "metadata": {},
   "outputs": [
    {
     "data": {
      "text/plain": [
       "[]"
      ]
     },
     "execution_count": 30,
     "metadata": {},
     "output_type": "execute_result"
    }
   ],
   "source": [
    "import json\n",
    "import requests\n",
    "user_input = \"Enter the TV show or movie you would like to watch: \"\n",
    "#def get_TVListings():\n",
    "    api_key = '9d13812853d54aabc9680d89a460e49a'\n",
    "    url = 'http://api.tvmedia.ca/tv/v4/series?api_key=9d13812853d54aabc9680d89a460e49a&name=user_input&detail=brief' % (api_key)\n",
    "    response = requests.get(url)\n",
    "    data = response.json()\n",
    "    #return data\n",
    "\n",
    "#TV_data = get_TVListings()\n",
    "#TV_data\n",
    "\n",
    "#for i in TV_data[:]:\n",
    "    #ep_titles = []\n",
    "    #ep_titles.append(i['episodeTitle'])\n",
    "    #print(ep_titles)\n",
    "\n"
   ]
  },
  {
   "cell_type": "code",
   "execution_count": null,
   "metadata": {},
   "outputs": [],
   "source": []
  },
  {
   "cell_type": "code",
   "execution_count": null,
   "metadata": {},
   "outputs": [],
   "source": []
  }
 ],
 "metadata": {
  "kernelspec": {
   "display_name": "Python 3",
   "language": "python",
   "name": "python3"
  },
  "language_info": {
   "codemirror_mode": {
    "name": "ipython",
    "version": 3
   },
   "file_extension": ".py",
   "mimetype": "text/x-python",
   "name": "python",
   "nbconvert_exporter": "python",
   "pygments_lexer": "ipython3",
   "version": "3.6.6"
  }
 },
 "nbformat": 4,
 "nbformat_minor": 2
}
