{
 "cells": [
  {
   "cell_type": "code",
   "execution_count": 21,
   "metadata": {},
   "outputs": [
    {
     "name": "stdout",
     "output_type": "stream",
     "text": [
      "Enter the TV show or movie you would like to watch: the office\n"
     ]
    },
    {
     "data": {
      "text/plain": [
       "{'id': 526,\n",
       " 'url': 'http://www.tvmaze.com/shows/526/the-office',\n",
       " 'name': 'The Office',\n",
       " 'type': 'Scripted',\n",
       " 'language': 'English',\n",
       " 'genres': ['Comedy'],\n",
       " 'status': 'Ended',\n",
       " 'runtime': 30,\n",
       " 'premiered': '2005-03-24',\n",
       " 'officialSite': 'http://www.nbc.com/the-office',\n",
       " 'schedule': {'time': '21:00', 'days': ['Thursday']},\n",
       " 'rating': {'average': 8.7},\n",
       " 'weight': 90,\n",
       " 'network': {'id': 1,\n",
       "  'name': 'NBC',\n",
       "  'country': {'name': 'United States',\n",
       "   'code': 'US',\n",
       "   'timezone': 'America/New_York'}},\n",
       " 'webChannel': None,\n",
       " 'externals': {'tvrage': 6061, 'thetvdb': 73244, 'imdb': 'tt0386676'},\n",
       " 'image': {'medium': 'http://static.tvmaze.com/uploads/images/medium_portrait/85/213184.jpg',\n",
       "  'original': 'http://static.tvmaze.com/uploads/images/original_untouched/85/213184.jpg'},\n",
       " 'summary': '<p>Steve Carell stars in <b>The Office</b>, a fresh and funny mockumentary-style glimpse into the daily interactions of the eccentric workers at the Dunder Mifflin paper supply company. Based on the smash-hit British series of the same name and adapted for American Television by Greg Daniels, this fast-paced comedy parodies contemporary American water-cooler culture. Earnest but clueless regional manager Michael Scott believes himself to be an exceptional boss and mentor, but actually receives more eye-rolls than respect from his oddball staff.</p>',\n",
       " 'updated': 1553193996,\n",
       " '_links': {'self': {'href': 'http://api.tvmaze.com/shows/526'},\n",
       "  'previousepisode': {'href': 'http://api.tvmaze.com/episodes/711203'}}}"
      ]
     },
     "execution_count": 21,
     "metadata": {},
     "output_type": "execute_result"
    }
   ],
   "source": [
    "import json\n",
    "import requests\n",
    "user_input = str(input(\"Enter the TV show or movie you would like to watch: \")).title()\n",
    "def get_TVListings():\n",
    "    api_key = '???'\n",
    "    url = 'http://api.tvmaze.com/singlesearch/shows?q=%s' % (user_input)\n",
    "    response = requests.get(url)\n",
    "    data = response.json()\n",
    "    return data\n",
    "\n",
    "TV_data = get_TVListings()\n",
    "TV_data\n",
    "\n",
    "\n",
    "\n"
   ]
  },
  {
   "cell_type": "code",
   "execution_count": null,
   "metadata": {},
   "outputs": [],
   "source": []
  },
  {
   "cell_type": "code",
   "execution_count": null,
   "metadata": {},
   "outputs": [],
   "source": []
  }
 ],
 "metadata": {
  "kernelspec": {
   "display_name": "Python 3",
   "language": "python",
   "name": "python3"
  },
  "language_info": {
   "codemirror_mode": {
    "name": "ipython",
    "version": 3
   },
   "file_extension": ".py",
   "mimetype": "text/x-python",
   "name": "python",
   "nbconvert_exporter": "python",
   "pygments_lexer": "ipython3",
   "version": "3.6.6"
  }
 },
 "nbformat": 4,
 "nbformat_minor": 2
}
