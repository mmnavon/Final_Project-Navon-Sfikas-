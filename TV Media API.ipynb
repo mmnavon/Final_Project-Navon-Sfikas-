{
 "cells": [
  {
   "cell_type": "code",
   "execution_count": 29,
   "metadata": {},
   "outputs": [
    {
     "name": "stdout",
     "output_type": "stream",
     "text": [
      "TV Show Finder\n",
      "Enter the TV show or movie you would like to watch: barry\n",
      "22:00 in military time is 10:0 P.M. standard time\n"
     ]
    },
    {
     "data": {
      "text/html": [
       "<div>\n",
       "<style scoped>\n",
       "    .dataframe tbody tr th:only-of-type {\n",
       "        vertical-align: middle;\n",
       "    }\n",
       "\n",
       "    .dataframe tbody tr th {\n",
       "        vertical-align: top;\n",
       "    }\n",
       "\n",
       "    .dataframe thead th {\n",
       "        text-align: right;\n",
       "    }\n",
       "</style>\n",
       "<table border=\"1\" class=\"dataframe\">\n",
       "  <thead>\n",
       "    <tr style=\"text-align: right;\">\n",
       "      <th></th>\n",
       "      <th>Channel</th>\n",
       "      <th>Time</th>\n",
       "      <th>Days</th>\n",
       "    </tr>\n",
       "  </thead>\n",
       "  <tbody>\n",
       "    <tr>\n",
       "      <th>0</th>\n",
       "      <td>HBO</td>\n",
       "      <td>22:00</td>\n",
       "      <td>Sunday</td>\n",
       "    </tr>\n",
       "  </tbody>\n",
       "</table>\n",
       "</div>"
      ],
      "text/plain": [
       "  Channel   Time    Days\n",
       "0     HBO  22:00  Sunday"
      ]
     },
     "execution_count": 29,
     "metadata": {},
     "output_type": "execute_result"
    }
   ],
   "source": [
    "import json\n",
    "import requests\n",
    "import pandas as pd\n",
    "import warnings\n",
    "warnings.filterwarnings('ignore')\n",
    "\n",
    "print('TV Show Finder')\n",
    "\n",
    "user_input = str(input(\"Enter the TV show or movie you would like to watch: \")).title()\n",
    "\n",
    "def get_TVListings():\n",
    "    url = 'http://api.tvmaze.com/singlesearch/shows?q=%s' % (user_input)\n",
    "    response = requests.get(url)\n",
    "    data = response.json()\n",
    "    return data\n",
    "\n",
    "TV_data = get_TVListings()\n",
    "#TV_data\n",
    "\n",
    "\n",
    "if TV_data['status'] == 'Ended':\n",
    "    output = 'That show is no longer on television'\n",
    "else:\n",
    "    channel = TV_data['network']['name']\n",
    "    time = TV_data['schedule']['time']\n",
    "    day = TV_data['schedule']['days']\n",
    "    #service = TV_data['webChannel']['name']\n",
    "    #print(channel, time, day)\n",
    "    hours = int(time[:2])\n",
    "    minutes = int(time[-2:])\n",
    "    if hours < 0 or hours > 23 or minutes > 59:\n",
    "        print('Incorrect format. Example of correct format: 2359')\n",
    "    elif hours > 12:\n",
    "        hours = hours - 12\n",
    "        print(time, 'in military time is %d:%d P.M. standard time' % (hours, minutes))\n",
    "    elif hours == 12:\n",
    "        print(time, 'in military time is %d:%d P.M. standard time' % (hours, minutes))\n",
    "    elif 0 < hours < 12:\n",
    "        print(time, 'in military time is %d:%d A.M. standard time' % (hours, minutes))\n",
    "    elif hours == 0:\n",
    "        print(time, 'in military time is 12:%d A.M. standard time' % (minutes))\n",
    "    output = pd.DataFrame({'Channel' : channel, 'Time' : time, 'Days' : day})\n",
    "\n",
    "\n",
    "output\n",
    "\n"
   ]
  },
  {
   "cell_type": "code",
   "execution_count": null,
   "metadata": {},
   "outputs": [],
   "source": []
  },
  {
   "cell_type": "code",
   "execution_count": null,
   "metadata": {},
   "outputs": [],
   "source": []
  }
 ],
 "metadata": {
  "kernelspec": {
   "display_name": "Python 3",
   "language": "python",
   "name": "python3"
  },
  "language_info": {
   "codemirror_mode": {
    "name": "ipython",
    "version": 3
   },
   "file_extension": ".py",
   "mimetype": "text/x-python",
   "name": "python",
   "nbconvert_exporter": "python",
   "pygments_lexer": "ipython3",
   "version": "3.6.6"
  }
 },
 "nbformat": 4,
 "nbformat_minor": 2
}
