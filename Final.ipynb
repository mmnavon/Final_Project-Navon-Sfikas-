{
 "cells": [
  {
   "cell_type": "code",
   "execution_count": null,
   "metadata": {},
   "outputs": [],
   "source": []
  },
  {
   "cell_type": "code",
   "execution_count": 9,
   "metadata": {},
   "outputs": [
    {
     "name": "stdout",
     "output_type": "stream",
     "text": [
      "TV Show Finder\n",
      "enter a tv show name: barry\n",
      "Search results for Barry ... \n",
      "\u001b[1mCable:\n"
     ]
    },
    {
     "data": {
      "text/html": [
       "<div>\n",
       "<style scoped>\n",
       "    .dataframe tbody tr th:only-of-type {\n",
       "        vertical-align: middle;\n",
       "    }\n",
       "\n",
       "    .dataframe tbody tr th {\n",
       "        vertical-align: top;\n",
       "    }\n",
       "\n",
       "    .dataframe thead th {\n",
       "        text-align: right;\n",
       "    }\n",
       "</style>\n",
       "<table border=\"1\" class=\"dataframe\">\n",
       "  <thead>\n",
       "    <tr style=\"text-align: right;\">\n",
       "      <th></th>\n",
       "      <th>Channel</th>\n",
       "      <th>Time</th>\n",
       "      <th>Days</th>\n",
       "    </tr>\n",
       "  </thead>\n",
       "  <tbody>\n",
       "    <tr>\n",
       "      <th>0</th>\n",
       "      <td>HBO</td>\n",
       "      <td>22:00</td>\n",
       "      <td>Sunday</td>\n",
       "    </tr>\n",
       "  </tbody>\n",
       "</table>\n",
       "</div>"
      ],
      "text/plain": [
       "  Channel   Time    Days\n",
       "0     HBO  22:00  Sunday"
      ]
     },
     "metadata": {},
     "output_type": "display_data"
    },
    {
     "name": "stdout",
     "output_type": "stream",
     "text": [
      "\u001b[1mBarry is available on the following streaming service(s):\n"
     ]
    },
    {
     "data": {
      "text/html": [
       "<div>\n",
       "<style scoped>\n",
       "    .dataframe tbody tr th:only-of-type {\n",
       "        vertical-align: middle;\n",
       "    }\n",
       "\n",
       "    .dataframe tbody tr th {\n",
       "        vertical-align: top;\n",
       "    }\n",
       "\n",
       "    .dataframe thead th {\n",
       "        text-align: right;\n",
       "    }\n",
       "</style>\n",
       "<table border=\"1\" class=\"dataframe\">\n",
       "  <thead>\n",
       "    <tr style=\"text-align: right;\">\n",
       "      <th></th>\n",
       "      <th>Streaming Services</th>\n",
       "    </tr>\n",
       "  </thead>\n",
       "  <tbody>\n",
       "    <tr>\n",
       "      <th>0</th>\n",
       "      <td>Netflix</td>\n",
       "    </tr>\n",
       "  </tbody>\n",
       "</table>\n",
       "</div>"
      ],
      "text/plain": [
       "  Streaming Services\n",
       "0            Netflix"
      ]
     },
     "metadata": {},
     "output_type": "display_data"
    }
   ],
   "source": [
    "import pandas as pd \n",
    "import requests\n",
    "import json\n",
    "import warnings\n",
    "warnings.filterwarnings('ignore')\n",
    "\n",
    "print('TV Show Finder')\n",
    "\n",
    "stream_check= []\n",
    "\n",
    "user_input=str(input(\"enter a tv show name: \")).title()#formats automatically to a title\n",
    "\n",
    "def utelly():#This code is the exact same as the first code except that it is formatted as a function.\n",
    "\n",
    "\n",
    "    response = requests.get(\"https://utelly-tv-shows-and-movies-availability-v1.p.rapidapi.com/lookup?term=%s&country=us\" %(user_input),#links the \n",
    "    headers={\n",
    "    \"X-RapidAPI-Host\": \"utelly-tv-shows-and-movies-availability-v1.p.rapidapi.com\",\n",
    "    \"X-RapidAPI-Key\": \"27f0faf5fbmshdd6202fe3078c29p128ee2jsn21b6f86998d2\"\n",
    "    }\n",
    "    )\n",
    "\n",
    "    data = response.json()\n",
    "\n",
    "    return data\n",
    "data = utelly()\n",
    "data\n",
    "locations = data['results'][0]['locations'][:]\n",
    "for i in locations:\n",
    "   \n",
    "\n",
    "    stream_check.append(i['display_name'])\n",
    "    \n",
    "\n",
    "streaming_services = stream_check\n",
    "\n",
    "#Tv Api (This is Steven's work)\n",
    "\n",
    "def get_TVListings():\n",
    "    url = 'http://api.tvmaze.com/singlesearch/shows?q=%s' % (user_input)\n",
    "    response = requests.get(url)\n",
    "    data = response.json()\n",
    "    return data\n",
    "\n",
    "TV_data = get_TVListings()\n",
    "#TV_data\n",
    "\n",
    "if TV_data['status'] == 'Ended':\n",
    "    output = 'That show is no longer on television'\n",
    "else:\n",
    "    channel = TV_data['network']['name']\n",
    "    time = TV_data['schedule']['time']\n",
    "    day = TV_data['schedule']['days']\n",
    "\n",
    "\n",
    "df1 = pd.DataFrame({'Channel' : channel, 'Time' : time, 'Days' : day})\n",
    "df2 = pd.DataFrame({'Streaming Services' : streaming_services})\n",
    "print('Search results for', user_input,'... ')\n",
    "print('\\033[1m' + 'Cable:')\n",
    "display(df1)\n",
    "print('\\033[1m' + user_input, \"is available on the following streaming service(s):\")\n",
    "display(df2)"
   ]
  },
  {
   "cell_type": "code",
   "execution_count": null,
   "metadata": {},
   "outputs": [],
   "source": [
    "user_input=str(input(\"enter a tv show name\")).title()\n",
    "TV_data = get_TVListings()\n",
    "#TV_data\n",
    "\n",
    "channel = TV_data['network']['name']\n",
    "time = TV_data['schedule']['time']\n",
    "day = TV_data['schedule']['days']\n",
    "\n",
    "#print(channel, time, day, service)\n",
    "\n",
    "output = pd.DataFrame({'Channel' : channel, 'Time' : time, 'Days' : day})\n",
    "output"
   ]
  },
  {
   "cell_type": "code",
   "execution_count": 16,
   "metadata": {},
   "outputs": [
    {
     "data": {
      "text/html": [
       "<div>\n",
       "<style scoped>\n",
       "    .dataframe tbody tr th:only-of-type {\n",
       "        vertical-align: middle;\n",
       "    }\n",
       "\n",
       "    .dataframe tbody tr th {\n",
       "        vertical-align: top;\n",
       "    }\n",
       "\n",
       "    .dataframe thead th {\n",
       "        text-align: right;\n",
       "    }\n",
       "</style>\n",
       "<table border=\"1\" class=\"dataframe\">\n",
       "  <thead>\n",
       "    <tr style=\"text-align: right;\">\n",
       "      <th></th>\n",
       "      <th>Channel</th>\n",
       "      <th>Time</th>\n",
       "      <th>Days</th>\n",
       "    </tr>\n",
       "  </thead>\n",
       "  <tbody>\n",
       "    <tr>\n",
       "      <th>0</th>\n",
       "      <td>NBC</td>\n",
       "      <td>21:00</td>\n",
       "      <td>Thursday</td>\n",
       "    </tr>\n",
       "  </tbody>\n",
       "</table>\n",
       "</div>"
      ],
      "text/plain": [
       "  Channel   Time      Days\n",
       "0     NBC  21:00  Thursday"
      ]
     },
     "execution_count": 16,
     "metadata": {},
     "output_type": "execute_result"
    }
   ],
   "source": [
    "output1"
   ]
  },
  {
   "cell_type": "code",
   "execution_count": null,
   "metadata": {},
   "outputs": [],
   "source": []
  }
 ],
 "metadata": {
  "kernelspec": {
   "display_name": "Python 3",
   "language": "python",
   "name": "python3"
  },
  "language_info": {
   "codemirror_mode": {
    "name": "ipython",
    "version": 3
   },
   "file_extension": ".py",
   "mimetype": "text/x-python",
   "name": "python",
   "nbconvert_exporter": "python",
   "pygments_lexer": "ipython3",
   "version": "3.6.6"
  }
 },
 "nbformat": 4,
 "nbformat_minor": 2
}
