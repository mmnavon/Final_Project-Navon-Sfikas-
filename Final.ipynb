{
 "cells": [
  {
   "cell_type": "code",
   "execution_count": null,
   "metadata": {},
   "outputs": [],
   "source": []
  },
  {
   "cell_type": "code",
   "execution_count": 44,
   "metadata": {},
   "outputs": [
    {
     "name": "stdout",
     "output_type": "stream",
     "text": [
      "TV Show Finder\n",
      "enter a tv show name: Hawaii 5 0\n",
      "Search results for Hawaii 5 0 ... \n",
      "\u001b[1mCable:\n"
     ]
    },
    {
     "data": {
      "text/plain": [
       "'That show is no longer on television'"
      ]
     },
     "metadata": {},
     "output_type": "display_data"
    },
    {
     "name": "stdout",
     "output_type": "stream",
     "text": [
      "\u001b[1mHawaii 5 0 is available on the following streaming service(s):\n"
     ]
    },
    {
     "data": {
      "text/html": [
       "<div>\n",
       "<style scoped>\n",
       "    .dataframe tbody tr th:only-of-type {\n",
       "        vertical-align: middle;\n",
       "    }\n",
       "\n",
       "    .dataframe tbody tr th {\n",
       "        vertical-align: top;\n",
       "    }\n",
       "\n",
       "    .dataframe thead th {\n",
       "        text-align: right;\n",
       "    }\n",
       "</style>\n",
       "<table border=\"1\" class=\"dataframe\">\n",
       "  <thead>\n",
       "    <tr style=\"text-align: right;\">\n",
       "      <th></th>\n",
       "      <th>Streaming Services</th>\n",
       "    </tr>\n",
       "  </thead>\n",
       "  <tbody>\n",
       "    <tr>\n",
       "      <th>0</th>\n",
       "      <td>iTunes</td>\n",
       "    </tr>\n",
       "  </tbody>\n",
       "</table>\n",
       "</div>"
      ],
      "text/plain": [
       "  Streaming Services\n",
       "0             iTunes"
      ]
     },
     "metadata": {},
     "output_type": "display_data"
    }
   ],
   "source": [
    "\n",
    "import pandas as pd \n",
    "import requests\n",
    "import json\n",
    "import warnings\n",
    "warnings.filterwarnings('ignore')\n",
    "\n",
    "print('TV Show Finder')\n",
    "\n",
    "stream_check= []\n",
    "\n",
    "user_input=str(input(\"enter a tv show name: \")).title()#formats automatically to a title\n",
    "\n",
    "def utelly():#This code is the exact same as the first code except that it is formatted as a function.\n",
    "    try:\n",
    "        url = 'https://utelly-tv-shows-and-movies-availability-v1.p.rapidapi.com/lookup?term=%s&country=us'\n",
    "        response = requests.get(\"https://utelly-tv-shows-and-movies-availability-v1.p.rapidapi.com/lookup?term=%s&country=us\" %(user_input),#links the \n",
    "        headers={\n",
    "        \"X-RapidAPI-Host\": \"utelly-tv-shows-and-movies-availability-v1.p.rapidapi.com\",\n",
    "        \"X-RapidAPI-Key\": \"27f0faf5fbmshdd6202fe3078c29p128ee2jsn21b6f86998d2\"\n",
    "        }\n",
    "        )\n",
    "\n",
    "        data = response.json()\n",
    "\n",
    "        return data\n",
    "        #Exceptions\n",
    "\n",
    "    except requests.exceptions.HTTPError as e:\n",
    "        print(\"ERROR: Response from \", url, 'was not ok.')\n",
    "        print(\"DETAILS:\", e)\n",
    "        print('Check your spelling or try another show title.')\n",
    "\n",
    "    # internet is broken\n",
    "    except requests.exceptions.RequestException as e: \n",
    "        print(\"ERROR: Cannot connect to \", url)\n",
    "        print(\"DETAILS:\", e)\n",
    "\n",
    "\n",
    "try:\n",
    "    data = utelly()\n",
    "    data\n",
    "    locations = data['results'][0]['locations'][:]\n",
    "    for i in locations:\n",
    "\n",
    "        stream_check.append(i['display_name'])\n",
    "\n",
    "\n",
    "    streaming_services = stream_check\n",
    "\n",
    "    #Tv Api (This is Steven's work)\n",
    "\n",
    "    def get_TVListings():\n",
    "        try:\n",
    "\n",
    "            url = 'http://api.tvmaze.com/singlesearch/shows?q=%s' % (user_input)\n",
    "            response = requests.get(url)\n",
    "            data = response.json()\n",
    "            return data\n",
    "\n",
    "        #Exceptions\n",
    "        except requests.exceptions.HTTPError as e:\n",
    "            print(\"ERROR: Response from \", url, 'was not ok.')\n",
    "            print(\"DETAILS:\", e)\n",
    "            print('Check your spelling or try another show title.')\n",
    "\n",
    "        # internet is broken\n",
    "        except requests.exceptions.RequestException as e: \n",
    "            print(\"ERROR: Cannot connect to \", url)\n",
    "            print(\"DETAILS:\", e)\n",
    "\n",
    "    TV_data = get_TVListings()\n",
    "    #TV_data\n",
    "\n",
    "    def time_Convert():\n",
    "        miliTime = time\n",
    "        hours, minutes = miliTime.split(\":\")\n",
    "        hours, minutes = int(hours), int(minutes)\n",
    "        setting = \"AM\"\n",
    "        if hours > 12:\n",
    "            setting = \"PM\"\n",
    "            hours -= 12\n",
    "        time=(\"%02d:%02d\" + setting) % (hours, minutes)\n",
    "\n",
    "    if TV_data['status'] == 'Ended':\n",
    "        df1 = \"This show has either ended or is currently unaviallable to watch.\"\n",
    "    else:\n",
    "        channel = TV_data['network']['name']\n",
    "        time = TV_data['schedule']['time']\n",
    "        day = TV_data['schedule']['days']\n",
    "        df1 = pd.DataFrame({'Channel' : channel, 'Time' : time, 'Days' : day})\n",
    "\n",
    "    df2 = pd.DataFrame({'Streaming Services' : streaming_services})\n",
    "    print('Search results for', user_input,'... ')\n",
    "    print('\\033[1m' + 'Cable:')\n",
    "    display(df1)\n",
    "    print('\\033[1m' + user_input, \"is available on the following streaming service(s):\")\n",
    "    display(df2)\n",
    "    \n",
    "except TypeError:\n",
    "    print('no data aviallable to print')"
   ]
  },
  {
   "cell_type": "code",
   "execution_count": null,
   "metadata": {},
   "outputs": [],
   "source": []
  },
  {
   "cell_type": "code",
   "execution_count": null,
   "metadata": {},
   "outputs": [],
   "source": []
  },
  {
   "cell_type": "code",
   "execution_count": null,
   "metadata": {},
   "outputs": [],
   "source": []
  }
 ],
 "metadata": {
  "kernelspec": {
   "display_name": "Python 3",
   "language": "python",
   "name": "python3"
  },
  "language_info": {
   "codemirror_mode": {
    "name": "ipython",
    "version": 3
   },
   "file_extension": ".py",
   "mimetype": "text/x-python",
   "name": "python",
   "nbconvert_exporter": "python",
   "pygments_lexer": "ipython3",
   "version": "3.6.6"
  }
 },
 "nbformat": 4,
 "nbformat_minor": 2
}
