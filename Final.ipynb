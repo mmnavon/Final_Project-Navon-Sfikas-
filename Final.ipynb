{
 "cells": [
  {
   "cell_type": "code",
   "execution_count": null,
   "metadata": {},
   "outputs": [],
   "source": []
  },
  {
   "cell_type": "code",
   "execution_count": 1,
   "metadata": {},
   "outputs": [],
   "source": [
    "\n",
    "import pandas as pd \n",
    "import requests\n",
    "import json\n",
    "import warnings\n",
    "warnings.filterwarnings('ignore')\n",
    "\n",
    "\n",
    "\n",
    "def utelly():#A function that retrieves the data from the Utelly API depending on whatever the user inputs\n",
    "    try:\n",
    "        url = 'https://utelly-tv-shows-and-movies-availability-v1.p.rapidapi.com/lookup?term=%s&country=us' ##URL for the exceptions\n",
    "        response = requests.get(\"https://utelly-tv-shows-and-movies-availability-v1.p.rapidapi.com/lookup?term=%s&country=us\" %(user_input),#fetches the data source from the web with the user input as the search term \n",
    "        headers={\n",
    "        \"X-RapidAPI-Host\": \"utelly-tv-shows-and-movies-availability-v1.p.rapidapi.com\",\n",
    "        \"X-RapidAPI-Key\": \"27f0faf5fbmshdd6202fe3078c29p128ee2jsn21b6f86998d2\"\n",
    "        }\n",
    "        )\n",
    "\n",
    "        data = response.json() ##turns the data into a python object to work with out project\n",
    "\n",
    "        return data #returns the retrieved data set\n",
    "        \n",
    "        #Exceptions\n",
    "\n",
    "    except requests.exceptions.HTTPError as e: ##exception for when the user entered an input that got no response from the API\n",
    "        print(\"ERROR: Response from \", url, 'was not ok.')\n",
    "        print(\"DETAILS:\", e)\n",
    "        print('Check your spelling or try another show title.')\n",
    "\n",
    "    except requests.exceptions.RequestException as e: ## notifies the user when they are not connected to the internet\n",
    "        print(\"ERROR: Cannot connect to \", url)\n",
    "        print(\"DETAILS:\", e)\n",
    "\n",
    "\n"
   ]
  },
  {
   "cell_type": "code",
   "execution_count": 2,
   "metadata": {},
   "outputs": [],
   "source": [
    "def get_TVListings(): #A function that retrieves the data from the TV_Maze API depending on whatever the user inputs\n",
    "    try:\n",
    "        url = 'http://api.tvmaze.com/singlesearch/shows?q=%s' % (user_input) ##The url used for the GET verb with the user input as the search term\n",
    "        response = requests.get(url) #retrives data from the web API according to the previous url\n",
    "        data = response.json() ##turns the data into a python object\n",
    "        return data ##returns the retrieved data set\n",
    "      \n",
    "        #Exceptions\n",
    "        \n",
    "    except requests.exceptions.HTTPError as e: ##exception for when the user entered an input that got no response from the API\n",
    "        print(\"ERROR: Response from \", url, 'was not ok.')\n",
    "        print(\"DETAILS:\", e)\n",
    "        print('Check your spelling or try another show title.')\n",
    "    # internet is broken\n",
    "    except requests.exceptions.RequestException as e: ## notifies the user when they are not connected to the internet\n",
    "        print(\"ERROR: Cannot connect to \", url)\n",
    "        print(\"DETAILS:\", e)\n"
   ]
  },
  {
   "cell_type": "code",
   "execution_count": 8,
   "metadata": {},
   "outputs": [
    {
     "name": "stdout",
     "output_type": "stream",
     "text": [
      "TV Show Finder\n",
      "enter a tv show name or type quit: barry\n",
      "Search results for Barry ... \n",
      "\u001b[1mCable:\n"
     ]
    },
    {
     "data": {
      "text/html": [
       "<div>\n",
       "<style scoped>\n",
       "    .dataframe tbody tr th:only-of-type {\n",
       "        vertical-align: middle;\n",
       "    }\n",
       "\n",
       "    .dataframe tbody tr th {\n",
       "        vertical-align: top;\n",
       "    }\n",
       "\n",
       "    .dataframe thead th {\n",
       "        text-align: right;\n",
       "    }\n",
       "</style>\n",
       "<table border=\"1\" class=\"dataframe\">\n",
       "  <thead>\n",
       "    <tr style=\"text-align: right;\">\n",
       "      <th></th>\n",
       "      <th>Channel</th>\n",
       "      <th>Time</th>\n",
       "      <th>Days</th>\n",
       "    </tr>\n",
       "  </thead>\n",
       "  <tbody>\n",
       "    <tr>\n",
       "      <th>0</th>\n",
       "      <td>HBO</td>\n",
       "      <td>22:00</td>\n",
       "      <td>Sunday</td>\n",
       "    </tr>\n",
       "  </tbody>\n",
       "</table>\n",
       "</div>"
      ],
      "text/plain": [
       "  Channel   Time    Days\n",
       "0     HBO  22:00  Sunday"
      ]
     },
     "metadata": {},
     "output_type": "display_data"
    },
    {
     "name": "stdout",
     "output_type": "stream",
     "text": [
      "\u001b[1mBarry is available on the following streaming service(s):\n"
     ]
    },
    {
     "data": {
      "text/html": [
       "<div>\n",
       "<style scoped>\n",
       "    .dataframe tbody tr th:only-of-type {\n",
       "        vertical-align: middle;\n",
       "    }\n",
       "\n",
       "    .dataframe tbody tr th {\n",
       "        vertical-align: top;\n",
       "    }\n",
       "\n",
       "    .dataframe thead th {\n",
       "        text-align: right;\n",
       "    }\n",
       "</style>\n",
       "<table border=\"1\" class=\"dataframe\">\n",
       "  <thead>\n",
       "    <tr style=\"text-align: right;\">\n",
       "      <th></th>\n",
       "      <th>Streaming Services</th>\n",
       "    </tr>\n",
       "  </thead>\n",
       "  <tbody>\n",
       "    <tr>\n",
       "      <th>0</th>\n",
       "      <td>Netflix</td>\n",
       "    </tr>\n",
       "  </tbody>\n",
       "</table>\n",
       "</div>"
      ],
      "text/plain": [
       "  Streaming Services\n",
       "0            Netflix"
      ]
     },
     "metadata": {},
     "output_type": "display_data"
    },
    {
     "name": "stdout",
     "output_type": "stream",
     "text": [
      "enter a tv show name or type quit: game of thrones\n",
      "Search results for Game Of Thrones ... \n",
      "\u001b[1mCable:\n"
     ]
    },
    {
     "data": {
      "text/html": [
       "<div>\n",
       "<style scoped>\n",
       "    .dataframe tbody tr th:only-of-type {\n",
       "        vertical-align: middle;\n",
       "    }\n",
       "\n",
       "    .dataframe tbody tr th {\n",
       "        vertical-align: top;\n",
       "    }\n",
       "\n",
       "    .dataframe thead th {\n",
       "        text-align: right;\n",
       "    }\n",
       "</style>\n",
       "<table border=\"1\" class=\"dataframe\">\n",
       "  <thead>\n",
       "    <tr style=\"text-align: right;\">\n",
       "      <th></th>\n",
       "      <th>Channel</th>\n",
       "      <th>Time</th>\n",
       "      <th>Days</th>\n",
       "    </tr>\n",
       "  </thead>\n",
       "  <tbody>\n",
       "    <tr>\n",
       "      <th>0</th>\n",
       "      <td>HBO</td>\n",
       "      <td>21:00</td>\n",
       "      <td>Sunday</td>\n",
       "    </tr>\n",
       "  </tbody>\n",
       "</table>\n",
       "</div>"
      ],
      "text/plain": [
       "  Channel   Time    Days\n",
       "0     HBO  21:00  Sunday"
      ]
     },
     "metadata": {},
     "output_type": "display_data"
    },
    {
     "name": "stdout",
     "output_type": "stream",
     "text": [
      "\u001b[1mGame Of Thrones is available on the following streaming service(s):\n"
     ]
    },
    {
     "data": {
      "text/html": [
       "<div>\n",
       "<style scoped>\n",
       "    .dataframe tbody tr th:only-of-type {\n",
       "        vertical-align: middle;\n",
       "    }\n",
       "\n",
       "    .dataframe tbody tr th {\n",
       "        vertical-align: top;\n",
       "    }\n",
       "\n",
       "    .dataframe thead th {\n",
       "        text-align: right;\n",
       "    }\n",
       "</style>\n",
       "<table border=\"1\" class=\"dataframe\">\n",
       "  <thead>\n",
       "    <tr style=\"text-align: right;\">\n",
       "      <th></th>\n",
       "      <th>Streaming Services</th>\n",
       "    </tr>\n",
       "  </thead>\n",
       "  <tbody>\n",
       "    <tr>\n",
       "      <th>0</th>\n",
       "      <td>iTunes</td>\n",
       "    </tr>\n",
       "    <tr>\n",
       "      <th>1</th>\n",
       "      <td>Amazon Prime</td>\n",
       "    </tr>\n",
       "  </tbody>\n",
       "</table>\n",
       "</div>"
      ],
      "text/plain": [
       "  Streaming Services\n",
       "0             iTunes\n",
       "1       Amazon Prime"
      ]
     },
     "metadata": {},
     "output_type": "display_data"
    },
    {
     "name": "stdout",
     "output_type": "stream",
     "text": [
      "enter a tv show name or type quit: quit\n"
     ]
    }
   ],
   "source": [
    "print('TV Show Finder')\n",
    "    \n",
    "try:\n",
    "    while True:\n",
    "        user_input = str(input(\"enter a tv show name or type quit: \")).title()#collects the desired TV search and formats automatically to a title\n",
    "        if user_input == 'Quit': ##Exit condition for the loop\n",
    "            break\n",
    "        streaming_services= [] ##creates list that will collect data from the Utelly API (Will be used later for the DataFrame)\n",
    "        data = utelly() #Calls the earlier function to collect the data from the Utelly API\n",
    "        locations = data['results'][0]['locations'][:] #finds the list of the available streaming services and places them in a variable\n",
    "        for i in locations: #Iterates through the streaming locations for the user entered show and adds them to the list created earlier\n",
    "\n",
    "            streaming_services.append(i['display_name'])\n",
    "\n",
    "        TV_data = get_TVListings() ##Calls the TV_Maze API to retrieve information about the TV Listings \n",
    "\n",
    "        def time_Convert(): ##Attempted function to change time variable to standard time\n",
    "            miliTime = time\n",
    "            hours, minutes = miliTime.split(\":\")\n",
    "            hours, minutes = int(hours), int(minutes)\n",
    "            setting = \"AM\"\n",
    "            if hours > 12:\n",
    "                setting = \"PM\"\n",
    "                hours -= 12\n",
    "            time=(\"%02d:%02d\" + setting) % (hours, minutes)\n",
    "\n",
    "        if TV_data['status'] == 'Ended': ##allows the program to notify the user whether their program is currently on TV\n",
    "            df1 = \"This show has either ended or is currently unaviallable to watch.\"\n",
    "        else: ##places the various items in the data set into corresponding variables for the DataFrame\n",
    "            channel = TV_data['network']['name']\n",
    "            time = TV_data['schedule']['time']\n",
    "            day = TV_data['schedule']['days']\n",
    "            df1 = pd.DataFrame({'Channel' : channel, 'Time' : time, 'Days' : day})\n",
    "\n",
    "        df2 = pd.DataFrame({'Streaming Services' : streaming_services}) #Creates one DataFrame for the available Streaming Services\n",
    "        print('Search results for', user_input,'... ')\n",
    "        print('\\033[1m' + 'Cable:') #Prints a title for DataFrame 1 (Bolded)\n",
    "        display(df1) #Prints the cable DataFrame\n",
    "        print('\\033[1m' + user_input, \"is available on the following streaming service(s):\") #Prints a title for DataFrame 2 (Bolded)\n",
    "        display(df2) #Prints the streaming DataFrame\n",
    "\n",
    "except TypeError:\n",
    "    print('no data aviallable to print')"
   ]
  },
  {
   "cell_type": "code",
   "execution_count": null,
   "metadata": {},
   "outputs": [],
   "source": []
  }
 ],
 "metadata": {
  "kernelspec": {
   "display_name": "Python 3",
   "language": "python",
   "name": "python3"
  },
  "language_info": {
   "codemirror_mode": {
    "name": "ipython",
    "version": 3
   },
   "file_extension": ".py",
   "mimetype": "text/x-python",
   "name": "python",
   "nbconvert_exporter": "python",
   "pygments_lexer": "ipython3",
   "version": "3.6.6"
  }
 },
 "nbformat": 4,
 "nbformat_minor": 2
}
